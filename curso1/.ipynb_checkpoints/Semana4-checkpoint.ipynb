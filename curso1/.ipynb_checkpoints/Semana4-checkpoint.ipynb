{
 "cells": [
  {
   "cell_type": "markdown",
   "metadata": {},
   "source": [
    "# Semana 4\n",
    "## Deep L-layer NN\n",
    "Shallow x Deep NN. Depends on the number of layers of the NN\n",
    "\n",
    "$L$: number of layers <br/>\n",
    "$n$<sup>[$l$]</sup>: number of units in layer $L$<br/>\n",
    "$a$<sup>[$l$]</sup> or $g(z$<sup>[$l$]</sup>$)$: activation for layer $L$<br/>\n",
    "$a$<sup>[$L$]</sup> $= \\hat{y}$\n"
   ]
  },
  {
   "cell_type": "markdown",
   "metadata": {},
   "source": [
    "## "
   ]
  },
  {
   "cell_type": "code",
   "execution_count": null,
   "metadata": {},
   "outputs": [],
   "source": []
  }
 ],
 "metadata": {
  "kernelspec": {
   "display_name": "Python 3",
   "language": "python",
   "name": "python3"
  },
  "language_info": {
   "codemirror_mode": {
    "name": "ipython",
    "version": 3
   },
   "file_extension": ".py",
   "mimetype": "text/x-python",
   "name": "python",
   "nbconvert_exporter": "python",
   "pygments_lexer": "ipython3",
   "version": "3.5.2"
  }
 },
 "nbformat": 4,
 "nbformat_minor": 2
}
