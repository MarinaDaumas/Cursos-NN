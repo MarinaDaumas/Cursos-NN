{
 "cells": [
  {
   "cell_type": "markdown",
   "metadata": {},
   "source": [
    "# Semana 1"
   ]
  },
  {
   "cell_type": "markdown",
   "metadata": {},
   "source": [
    "### Edge detection\n",
    "\n",
    "    Previous layers detect basic shapes and edges and the later more complex features. \n",
    "\n",
    "- Vertical edge exemple:\n",
    "\n",
    "Do the convolution between the image and the vertical edge filter.\n",
    "\n",
    "\n",
    "| :----:|:-------------: | :-----:|\n",
    "| 1     | 0      | -1    |\n",
    "| 1     | 0      |   -1  |\n",
    "| 1     | 0      |    -1 |\n",
    "    \n",
    "   "
   ]
  },
  {
   "cell_type": "code",
   "execution_count": null,
   "metadata": {},
   "outputs": [],
   "source": []
  }
 ],
 "metadata": {
  "kernelspec": {
   "display_name": "Python 3",
   "language": "python",
   "name": "python3"
  },
  "language_info": {
   "codemirror_mode": {
    "name": "ipython",
    "version": 3
   },
   "file_extension": ".py",
   "mimetype": "text/x-python",
   "name": "python",
   "nbconvert_exporter": "python",
   "pygments_lexer": "ipython3",
   "version": "3.5.2"
  }
 },
 "nbformat": 4,
 "nbformat_minor": 2
}
