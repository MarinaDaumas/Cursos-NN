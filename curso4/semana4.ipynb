{
 "cells": [
  {
   "cell_type": "markdown",
   "metadata": {},
   "source": [
    "# Semana 4: Special applications: Face recognition & Neural style transfer"
   ]
  },
  {
   "cell_type": "markdown",
   "metadata": {},
   "source": [
    "## Face recognition\n",
    "\n",
    "Very commun use of CNN, usually associated with liveness detection to spot fake faces (ex: photographs). Usually you only have one image of each face, in a database like employees database, so you need to perform **one shot learning**.\n",
    "\n",
    "\n",
    "### One Shot Learning\n",
    "\n",
    "The standard aproach with CNN would be feed it with the images of the employees and train it to given face is output who's face is it, employeee1, 2, 3, ... or not an employee. But that would hardly work on only one image of each person and would need to train the NN every time a new person is added. \n",
    "Another option is to train a CNN to lean a **similarity function**. This way the CNN will learn to compare the images of the database and the input images to tell how different they are.\n",
    "\n",
    "$d(img1, img2) =$ degree of difference betwwen images\n",
    "\n",
    "If $d(img1, img2) <= \\sigma$ is the same person\n",
    "\n",
    "$d(img1, img2) > \\sigma$ not the same person"
   ]
  },
  {
   "cell_type": "code",
   "execution_count": null,
   "metadata": {},
   "outputs": [],
   "source": []
  }
 ],
 "metadata": {
  "kernelspec": {
   "display_name": "Python 3",
   "language": "python",
   "name": "python3"
  },
  "language_info": {
   "codemirror_mode": {
    "name": "ipython",
    "version": 3
   },
   "file_extension": ".py",
   "mimetype": "text/x-python",
   "name": "python",
   "nbconvert_exporter": "python",
   "pygments_lexer": "ipython3",
   "version": "3.5.2"
  }
 },
 "nbformat": 4,
 "nbformat_minor": 2
}
