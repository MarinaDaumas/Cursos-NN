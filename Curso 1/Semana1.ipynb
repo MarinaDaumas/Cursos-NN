{
 "cells": [
  {
   "cell_type": "markdown",
   "metadata": {},
   "source": [
    "# Semana 1"
   ]
  },
  {
   "cell_type": "markdown",
   "metadata": {},
   "source": [
    "## Supervised Learning\n",
    "\n",
    "|  Input(x) | Output(y)  | Aplication  | \n",
    "|---|---|---|\n",
    "| Add, user info  | Click add?  | Online advertising (1)|   \n",
    "| Image  | Object(1, ..., 1000)  | Photo tagging  (2)|      \n",
    "| Audio  | Text transcript  | Speech recognition  (3)| \n",
    "| Img, radar info | Position of other cars | Autonomous driving (4)|\n",
    "\n",
    "There are different types of NN usefull for specific cases.\n",
    "\n",
    "* 1: Standard NN\n",
    "* 2: Convolutional NN \n",
    "* 3: Recurrent NN\n",
    "* 4: Custom / Hybrid NN\n",
    "\n",
    "Data can also be divided in Structured data (tables and other organized stuff) and Unstructured data (Photos, audio, text, etc.)\n",
    "\n",
    "## Why \"famous\" now\n",
    "Traditional learning algorithm have limited performance ability. With NN using more data improves the performance. So does using a bigger NN. And nowadays we have loads of data.\n",
    "\n",
    "**m** = size of NN training set\n",
    "(number of trainig exemples)"
   ]
  },
  {
   "cell_type": "code",
   "execution_count": null,
   "metadata": {},
   "outputs": [],
   "source": []
  },
  {
   "cell_type": "code",
   "execution_count": null,
   "metadata": {},
   "outputs": [],
   "source": []
  }
 ],
 "metadata": {
  "kernelspec": {
   "display_name": "Python 3",
   "language": "python",
   "name": "python3"
  },
  "language_info": {
   "codemirror_mode": {
    "name": "ipython",
    "version": 3
   },
   "file_extension": ".py",
   "mimetype": "text/x-python",
   "name": "python",
   "nbconvert_exporter": "python",
   "pygments_lexer": "ipython3",
   "version": "3.5.2"
  }
 },
 "nbformat": 4,
 "nbformat_minor": 2
}
