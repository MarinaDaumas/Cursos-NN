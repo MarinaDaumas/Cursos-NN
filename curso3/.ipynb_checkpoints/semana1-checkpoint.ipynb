{
 "cells": [
  {
   "cell_type": "markdown",
   "metadata": {},
   "source": [
    "# Semana 1: ML Strategy 1"
   ]
  },
  {
   "cell_type": "markdown",
   "metadata": {},
   "source": [
    "### Why ML Strategy\n",
    "\n",
    "Supose you are training a network and now have a 90% accuracy but you need an even higher accuracy. There are many things you can think of doing.\n",
    "\n",
    "- Collect more data\n",
    "- Colect more diverse training set\n",
    "- Train longer with gradient descent\n",
    "- Try Adam instead of gradient descent\n",
    "- Try bigger/smaller network\n",
    "- Try dropout\n",
    "- Add L_2 regulatization \n",
    "- Change network architecture\n",
    "    \n",
    "    - activation\n",
    "    - #hidden units\n",
    "    - etc.\n",
    "    \n",
    "There are many options, wich make it easy to waste lot of time trying things that in the end are not going to help very much. This couse teaches strategies that help analysing the problem to choose the most promissing things to try. "
   ]
  },
  {
   "cell_type": "markdown",
   "metadata": {},
   "source": [
    "## Orthogonalization\n",
    "\n",
    "If you have a cotrol syste that is orthogonal, this means that each one of the controllers affect only one of the parameters or dimenisons of you problem. In a car, for exemple, there's the steering wheel that controls the angle and aceleration and break to control the speed. This is orthogonal control. \n",
    "\n",
    "If it wasn't orthogonal it would something like 3 steerings that each controled for example 0.5 of the angle and 0.2 of the speed, 0.9 of the angle and 1.5 of speed and 0.3 of angle and 0.8 of speed. It could be possible to control but very difficult. \n",
    "\n",
    "That's why we want to control the performance of our netkwork orthogonaly. We will analize how the network is performing on training, dev and test sets and how it's performing on real life separately and tune these separetely. \n"
   ]
  },
  {
   "cell_type": "markdown",
   "metadata": {},
   "source": [
    "## Single number evaluation metric\n",
    "\n",
    "It's easier to compare different versions of a netwrok if you have one number to compare only. So if you have, for exemple a cat classifier and you have the precision and recall of each version of the network you should calculate something like the F1 ($F1 = \\frac{2}{1/precision + 1/recall}$) and compare this number. Or if your classifier is used in different types of images calculate the average of the error in each type of image.\n"
   ]
  },
  {
   "cell_type": "markdown",
   "metadata": {},
   "source": [
    "## Satisficing and optimizing\n",
    "\n",
    "Sometimes it is hard to combine all things we want to evaluate in one single metric. If you want to compare the accuracy (F1 s)take everything "
   ]
  }
 ],
 "metadata": {
  "kernelspec": {
   "display_name": "Python 3",
   "language": "python",
   "name": "python3"
  },
  "language_info": {
   "codemirror_mode": {
    "name": "ipython",
    "version": 3
   },
   "file_extension": ".py",
   "mimetype": "text/x-python",
   "name": "python",
   "nbconvert_exporter": "python",
   "pygments_lexer": "ipython3",
   "version": "3.5.2"
  }
 },
 "nbformat": 4,
 "nbformat_minor": 2
}
